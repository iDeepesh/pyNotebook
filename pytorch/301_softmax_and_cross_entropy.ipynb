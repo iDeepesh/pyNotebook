{
 "cells": [
  {
   "cell_type": "code",
   "execution_count": null,
   "metadata": {},
   "outputs": [],
   "source": [
    "# Softmax formula\n",
    "# x = [x1, x2, x3, ... xn]\n",
    "# s(xi) = exp(xi)/sum(exp(x))\n",
    "\n",
    "import numpy as np\n",
    "import torch\n",
    "\n",
    "def softmax(x):\n",
    "    # e = np.exp(x)\n",
    "    # e_sum = np.sum(np.exp(x), axis=0)\n",
    "    # r = e/e_sum\n",
    "    # return r\n",
    "    return np.exp(x)/np.sum(np.exp(x), axis=0)\n",
    "\n",
    "x = np.array([5.4, 3.6, 7.1, 1.9, 4.4])\n",
    "print(f\"Numpy array: {x}\")\n",
    "x_sm = softmax(x)\n",
    "print(f\"Softmaxed numpy array: {x_sm}\")\n",
    "\n",
    "tx = torch.from_numpy(x)\n",
    "print(f\"Tensor: {tx}\")\n",
    "tx_sm = torch.softmax(tx, dim=0)\n",
    "print(f\"Softmaxed Tensor: {tx_sm}\")\n"
   ]
  },
  {
   "cell_type": "code",
   "execution_count": null,
   "metadata": {},
   "outputs": [],
   "source": []
  }
 ],
 "metadata": {
  "kernelspec": {
   "display_name": "Python 3",
   "language": "python",
   "name": "python3"
  },
  "language_info": {
   "codemirror_mode": {
    "name": "ipython",
    "version": 3
   },
   "file_extension": ".py",
   "mimetype": "text/x-python",
   "name": "python",
   "nbconvert_exporter": "python",
   "pygments_lexer": "ipython3",
   "version": "3.11.5"
  }
 },
 "nbformat": 4,
 "nbformat_minor": 2
}
