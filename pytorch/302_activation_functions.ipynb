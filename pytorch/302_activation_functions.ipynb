{
 "cells": [
  {
   "cell_type": "code",
   "execution_count": 1,
   "metadata": {},
   "outputs": [],
   "source": [
    "# Types of activation functions\n",
    "# - Step: Not used much in practice.\n",
    "# - Sigmoid: Typically in the lass layer of binary classification problems\n",
    "# - TanH: Typically used in hidden layers of network\n",
    "# - Relu: Most popular choice in network. 0 for negative values and linear for values > 0\n",
    "# - Leaky relu: Slightly improved over Relu. A small neg value for values < 0. Helps with vanishing gradient problems\n",
    "# - Softmax: Good in last layer in multi class classification problems"
   ]
  },
  {
   "cell_type": "code",
   "execution_count": 2,
   "metadata": {},
   "outputs": [],
   "source": [
    "# Demonstrate a neural network with activation functions\n",
    "\n",
    "import torch\n",
    "import torch.nn as nn\n",
    "\n",
    "class NeuralNetwork(nn.Module):\n",
    "    def __init__(self, input_size, hidden_size):\n",
    "        super(NeuralNetwork, self).__init_()\n",
    "        self.lin_layer_1 ="
   ]
  },
  {
   "cell_type": "code",
   "execution_count": null,
   "metadata": {},
   "outputs": [],
   "source": []
  }
 ],
 "metadata": {
  "kernelspec": {
   "display_name": "Python 3",
   "language": "python",
   "name": "python3"
  },
  "language_info": {
   "codemirror_mode": {
    "name": "ipython",
    "version": 3
   },
   "file_extension": ".py",
   "mimetype": "text/x-python",
   "name": "python",
   "nbconvert_exporter": "python",
   "pygments_lexer": "ipython3",
   "version": "3.11.5"
  }
 },
 "nbformat": 4,
 "nbformat_minor": 2
}
