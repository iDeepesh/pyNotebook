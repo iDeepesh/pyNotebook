{
 "cells": [
  {
   "cell_type": "code",
   "execution_count": null,
   "metadata": {},
   "outputs": [],
   "source": [
    "# Types of activation functions\n",
    "# - Step: Not used much in practice.\n",
    "# - Sigmoid: Typically in the lass layer of binary classification problems\n",
    "# - TanH: Typically used in hidden layers of network\n",
    "# - Relu: Most popular choice in network. 0 for negative values and linear for values > 0\n",
    "# - Leaky relu: Slightly improved over Relu. A small neg value for values < 0. Helps with vanishing gradient problems\n",
    "# - Softmax: Good in last layer in multi class classification problems"
   ]
  },
  {
   "cell_type": "code",
   "execution_count": null,
   "metadata": {},
   "outputs": [],
   "source": [
    "# Demonstrate a neural network with activation functions\n",
    "\n",
    "import torch\n",
    "import torch.nn as nn\n",
    "import numpy as np\n",
    "# from torch.utils.data import Dataset\n",
    "\n",
    "class NeuralNetwork(nn.Module):\n",
    "    def __init__(self, input_size, hidden_size):\n",
    "        super(NeuralNetwork, self).__init__()\n",
    "        self.lin_layer_1 = nn.Linear(input_size, hidden_size)\n",
    "        self.lin_layer_2 = nn.Linear(hidden_size, 1)\n",
    "\n",
    "    def forward(self, x):\n",
    "        out = torch.tanh(self.lin_layer_1(x))\n",
    "        out = torch.relu(self.lin_layer_2(out))\n",
    "        return out\n",
    "    \n",
    "\n",
    "# Train the network\n",
    "# y = 3*a + 5*b\n",
    "\n",
    "# 0) prepare data\n",
    "# x_train = torch.from_numpy(np.array([[3],[1],[9],[0],[4],[7],[5]], dtype=np.float32))\n",
    "x_train = torch.from_numpy(np.array([[3,6],[1,8],[9,2],[0,6],[3,9],[1,1],[5,4]], dtype=np.float32))\n",
    "# print(x_train)\n",
    "# y_train = torch.from_numpy(np.array([14, 8, 32, 5, 17, 26, 20], dtype=np.float32))\n",
    "y_train = torch.from_numpy(np.array([39, 43, 37, 30, 54, 8, 35], dtype=np.float32))\n",
    "\n",
    "# 1) build model\n",
    "model = NeuralNetwork(2, 5)\n",
    "\n",
    "# 2) loss and optimizer\n",
    "learning_rate = 0.01\n",
    "loss = nn.MSELoss()\n",
    "# loss = nn.CrossEntropyLoss()\n",
    "optimzer = torch.optim.SGD(model.parameters(), lr=learning_rate)\n",
    "\n",
    "# 4) Training loop\n",
    "n_epochs = 200\n",
    "for epoch in range(n_epochs):\n",
    "    y_predicted = model(x_train)\n",
    "    if epoch%50 == 0:\n",
    "        print(y_predicted)\n",
    "    l = loss(y_predicted, y_train)\n",
    "    l.backward()\n",
    "    optimzer.step()\n",
    "    optimzer.zero_grad()\n",
    "\n",
    "# 5) Evaluate\n",
    "# y = 3*a + 5*b\n",
    "print(f\"a=5, b=10, output_expected=65, output_predicted={model(torch.from_numpy(np.array([5,10], dtype=np.float32)))}\")\n"
   ]
  },
  {
   "cell_type": "code",
   "execution_count": null,
   "metadata": {},
   "outputs": [],
   "source": []
  }
 ],
 "metadata": {
  "kernelspec": {
   "display_name": "Python 3",
   "language": "python",
   "name": "python3"
  },
  "language_info": {
   "codemirror_mode": {
    "name": "ipython",
    "version": 3
   },
   "file_extension": ".py",
   "mimetype": "text/x-python",
   "name": "python",
   "nbconvert_exporter": "python",
   "pygments_lexer": "ipython3",
   "version": "3.11.5"
  }
 },
 "nbformat": 4,
 "nbformat_minor": 2
}
