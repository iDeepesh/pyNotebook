{
 "cells": [
  {
   "cell_type": "code",
   "execution_count": 4,
   "metadata": {},
   "outputs": [],
   "source": [
    "import torch\n",
    "import numpy as np"
   ]
  },
  {
   "cell_type": "code",
   "execution_count": null,
   "metadata": {},
   "outputs": [],
   "source": [
    "# Demonstrate autograd\n",
    "\n",
    "x = torch.rand(3,2, requires_grad=True)\n",
    "print(x)\n",
    "\n",
    "y = x + 1\n",
    "print(y)\n",
    "\n",
    "# can't do below as implicit grad is for scalar inputs only\n",
    "# for non scalar inputs we need to provide a vector explicitly in the argument\n",
    "# y.backward()\n",
    "\n",
    "z = y.mean()\n",
    "print(z)\n",
    "\n",
    "z.backward()\n",
    "print(x.grad)\n",
    "\n",
    "# can't do below as .grad attribute is for leaf tensors only\n",
    "# print(y.grad)"
   ]
  },
  {
   "cell_type": "code",
   "execution_count": null,
   "metadata": {},
   "outputs": [],
   "source": [
    "# Demonstrate backpropagation with autograd\n",
    "\n",
    "a = torch.ones(1,1)\n",
    "w = torch.ones(1,1, requires_grad=True)\n",
    "\n",
    "# Forward pass and loss calculation\n",
    "b = a * w\n",
    "b_validate = a+1 # Value to validate b against\n",
    "loss = (b-b_validate) ** 2\n",
    "loss.backward()\n",
    "print(w.grad)\n",
    "# Gradient should be -2 based on the rules of gradient chaining for local gradients\n",
    "# dloss/dw = dloss/db * db/dw"
   ]
  },
  {
   "cell_type": "code",
   "execution_count": null,
   "metadata": {},
   "outputs": [],
   "source": []
  }
 ],
 "metadata": {
  "kernelspec": {
   "display_name": "Python 3",
   "language": "python",
   "name": "python3"
  },
  "language_info": {
   "codemirror_mode": {
    "name": "ipython",
    "version": 3
   },
   "file_extension": ".py",
   "mimetype": "text/x-python",
   "name": "python",
   "nbconvert_exporter": "python",
   "pygments_lexer": "ipython3",
   "version": "3.11.5"
  },
  "orig_nbformat": 4
 },
 "nbformat": 4,
 "nbformat_minor": 2
}
