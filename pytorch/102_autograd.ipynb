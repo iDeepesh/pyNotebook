{
 "cells": [
  {
   "cell_type": "code",
   "execution_count": 4,
   "metadata": {},
   "outputs": [],
   "source": [
    "import torch\n",
    "import numpy as np"
   ]
  },
  {
   "cell_type": "code",
   "execution_count": 5,
   "metadata": {},
   "outputs": [
    {
     "name": "stdout",
     "output_type": "stream",
     "text": [
      "tensor([[0.9203, 0.2196],\n",
      "        [0.0322, 0.6973],\n",
      "        [0.4976, 0.1646]], requires_grad=True)\n",
      "tensor([[1.9203, 1.2196],\n",
      "        [1.0322, 1.6973],\n",
      "        [1.4976, 1.1646]], grad_fn=<AddBackward0>)\n",
      "tensor(1.4219, grad_fn=<MeanBackward0>)\n",
      "tensor([[0.1667, 0.1667],\n",
      "        [0.1667, 0.1667],\n",
      "        [0.1667, 0.1667]])\n"
     ]
    }
   ],
   "source": [
    "# Demonstrate autograd\n",
    "\n",
    "x = torch.rand(3,2, requires_grad=True)\n",
    "print(x)\n",
    "\n",
    "y = x + 1\n",
    "print(y)\n",
    "\n",
    "# can't do below as implicit grad is for scalar inputs only\n",
    "# for non scalar inputs we need to provide a vector explicitly in the argument\n",
    "# y.backward()\n",
    "\n",
    "z = y.mean()\n",
    "print(z)\n",
    "\n",
    "z.backward()\n",
    "print(x.grad)\n",
    "\n",
    "# can't do below as .grad attribute is for leaf tensors only\n",
    "# print(y.grad)"
   ]
  },
  {
   "cell_type": "code",
   "execution_count": 6,
   "metadata": {},
   "outputs": [
    {
     "name": "stdout",
     "output_type": "stream",
     "text": [
      "tensor([[-2.]])\n"
     ]
    }
   ],
   "source": [
    "# Demonstrate backpropagation with autograd\n",
    "\n",
    "a = torch.ones(1,1)\n",
    "w = torch.ones(1,1, requires_grad=True)\n",
    "\n",
    "# Forward pass and loss calculation\n",
    "b = a * w\n",
    "b_validate = a+1 # Value to validate b against\n",
    "loss = (b-b_validate) ** 2\n",
    "loss.backward()\n",
    "print(w.grad)\n",
    "# Gradient should be -2 based on the rules of gradient chaining for local gradients\n",
    "# dloss/dw = dloss/db * db/dw"
   ]
  },
  {
   "cell_type": "code",
   "execution_count": null,
   "metadata": {},
   "outputs": [],
   "source": []
  }
 ],
 "metadata": {
  "kernelspec": {
   "display_name": "Python 3",
   "language": "python",
   "name": "python3"
  },
  "language_info": {
   "codemirror_mode": {
    "name": "ipython",
    "version": 3
   },
   "file_extension": ".py",
   "mimetype": "text/x-python",
   "name": "python",
   "nbconvert_exporter": "python",
   "pygments_lexer": "ipython3",
   "version": "3.11.5"
  },
  "orig_nbformat": 4
 },
 "nbformat": 4,
 "nbformat_minor": 2
}
