{
 "cells": [
  {
   "cell_type": "code",
   "execution_count": 1,
   "metadata": {},
   "outputs": [],
   "source": [
    "# Tensors are a specialized data structure that are very similar to arrays and matrices.\n",
    "# In PyTorch, we use tensors to encode the inputs and outputs of a model, as well as the model’s parameters.\n",
    "\n",
    "# pip install torch"
   ]
  },
  {
   "cell_type": "code",
   "execution_count": 2,
   "metadata": {},
   "outputs": [],
   "source": [
    "import torch\n",
    "import numpy as np"
   ]
  },
  {
   "cell_type": "code",
   "execution_count": null,
   "metadata": {},
   "outputs": [],
   "source": [
    "data = [[1,2,3,4], [5,6,7,8]]\n",
    "x_data = torch.tensor(data)\n",
    "print(x_data)\n",
    "\n",
    "np_array = np.array(data)\n",
    "x_numpy = torch.from_numpy(np_array)\n",
    "print(np_array)\n",
    "print(x_numpy)\n",
    "\n",
    "# If tensors are on cpu (not on gpu)\n",
    "# Change in Numpy array reflects in tensor & vice versa\n",
    "# They share the same underlying memeory, no need to copy\n",
    "# Does not happen with plain data array. Happens with numpy array only\n",
    "np.add(np_array, 1, out=np_array)\n",
    "print(np_array)\n",
    "print(x_numpy)\n",
    "\n",
    "\n",
    "x_ones = torch.ones_like(x_data)\n",
    "print(x_ones)\n",
    "\n",
    "x_rand = torch.rand_like(x_data, dtype=torch.float)\n",
    "print(x_rand)\n",
    "\n",
    "x_f_data = torch.tensor([[1.0,2.0], [5.0,6.0]])\n",
    "x_f_rand = torch.rand_like(x_f_data)\n",
    "print(x_f_rand)"
   ]
  },
  {
   "cell_type": "code",
   "execution_count": null,
   "metadata": {},
   "outputs": [],
   "source": [
    "shape = (4,5,)\n",
    "\n",
    "rand_t = torch.rand(shape)\n",
    "print(rand_t)\n",
    "\n",
    "ones_t = torch.ones(shape)\n",
    "print(ones_t)\n",
    "\n",
    "zeros_t = torch.zeros(shape)\n",
    "print(zeros_t)"
   ]
  },
  {
   "cell_type": "code",
   "execution_count": null,
   "metadata": {},
   "outputs": [],
   "source": [
    "tensor = torch.rand(4,5)\n",
    "print(tensor)\n",
    "\n",
    "print(f'The shape of tensor is {tensor.shape}')\n",
    "print(f'The datatype of tensor is {tensor.dtype}')\n",
    "print(f'The device of the tensor is {tensor.device}')"
   ]
  },
  {
   "cell_type": "code",
   "execution_count": null,
   "metadata": {},
   "outputs": [],
   "source": [
    "print(torch.cuda.is_available())"
   ]
  },
  {
   "cell_type": "code",
   "execution_count": null,
   "metadata": {},
   "outputs": [],
   "source": [
    "print(f'First row: {tensor[0]}')\n",
    "print(f'First column: {tensor[:, 0]}')\n",
    "print(f'Last column: {tensor[..., -1]}')"
   ]
  },
  {
   "cell_type": "code",
   "execution_count": null,
   "metadata": {},
   "outputs": [],
   "source": [
    "t1 = torch.ones([2,3])\n",
    "t2 = torch.zeros([2,3])\n",
    "print(f't1: {t1}')\n",
    "print(f't2: {t2}')\n",
    "t3 = torch.cat([t1,t2])\n",
    "t4 = torch.cat([t3, t1])\n",
    "print(f't3: {t3}')\n",
    "print(f't4: {t4}')"
   ]
  },
  {
   "cell_type": "code",
   "execution_count": null,
   "metadata": {},
   "outputs": [],
   "source": [
    "t1 = torch.ones(3,3)\n",
    "t1[:, 1] = 0\n",
    "t1t = t1.T\n",
    "print(t1)\n",
    "print(t1t)"
   ]
  },
  {
   "cell_type": "code",
   "execution_count": null,
   "metadata": {},
   "outputs": [],
   "source": [
    "t1 = torch.ones(2,3)\n",
    "t2 = torch.rand(3,2)\n",
    "t1t2 = t1.matmul(t2) \n",
    "print(t1)\n",
    "print(t2)\n",
    "print(t1t2)"
   ]
  },
  {
   "cell_type": "code",
   "execution_count": null,
   "metadata": {},
   "outputs": [],
   "source": [
    "t1 = torch.rand(3,2)\n",
    "print(t1)\n",
    "t1.add_(1)\n",
    "print(t1)"
   ]
  },
  {
   "cell_type": "code",
   "execution_count": null,
   "metadata": {},
   "outputs": [],
   "source": []
  }
 ],
 "metadata": {
  "kernelspec": {
   "display_name": "Python 3",
   "language": "python",
   "name": "python3"
  },
  "language_info": {
   "codemirror_mode": {
    "name": "ipython",
    "version": 3
   },
   "file_extension": ".py",
   "mimetype": "text/x-python",
   "name": "python",
   "nbconvert_exporter": "python",
   "pygments_lexer": "ipython3",
   "version": "3.11.5"
  },
  "orig_nbformat": 4
 },
 "nbformat": 4,
 "nbformat_minor": 2
}
