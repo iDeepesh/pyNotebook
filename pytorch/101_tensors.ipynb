{
 "cells": [
  {
   "cell_type": "code",
   "execution_count": 1,
   "metadata": {},
   "outputs": [],
   "source": [
    "# Tensors are a specialized data structure that are very similar to arrays and matrices.\n",
    "# In PyTorch, we use tensors to encode the inputs and outputs of a model, as well as the model’s parameters.\n",
    "\n",
    "# pip install torch"
   ]
  },
  {
   "cell_type": "code",
   "execution_count": 2,
   "metadata": {},
   "outputs": [],
   "source": [
    "import torch\n",
    "import numpy as np"
   ]
  },
  {
   "cell_type": "code",
   "execution_count": 13,
   "metadata": {},
   "outputs": [
    {
     "name": "stdout",
     "output_type": "stream",
     "text": [
      "tensor([[1, 2, 3, 4],\n",
      "        [5, 6, 7, 8]])\n",
      "[[1 2 3 4]\n",
      " [5 6 7 8]]\n",
      "tensor([[1, 2, 3, 4],\n",
      "        [5, 6, 7, 8]])\n",
      "[[2 3 4 5]\n",
      " [6 7 8 9]]\n",
      "tensor([[2, 3, 4, 5],\n",
      "        [6, 7, 8, 9]])\n",
      "tensor([[1, 1, 1, 1],\n",
      "        [1, 1, 1, 1]])\n",
      "tensor([[0.8048, 0.4000, 0.6323, 0.0427],\n",
      "        [0.5106, 0.2316, 0.4490, 0.2167]])\n",
      "tensor([[0.8530, 0.3673],\n",
      "        [0.1197, 0.5457]])\n"
     ]
    }
   ],
   "source": [
    "data = [[1,2,3,4], [5,6,7,8]]\n",
    "x_data = torch.tensor(data)\n",
    "print(x_data)\n",
    "\n",
    "np_array = np.array(data)\n",
    "x_numpy = torch.from_numpy(np_array)\n",
    "print(np_array)\n",
    "print(x_numpy)\n",
    "\n",
    "# Change in Numpy array reflects in tensor & vice versa\n",
    "# They share the same underlying memeory, no need to copy\n",
    "# Does not happen with plain data array. Happens with numpy array only\n",
    "np.add(np_array, 1, out=np_array)\n",
    "print(np_array)\n",
    "print(x_numpy)\n",
    "\n",
    "\n",
    "x_ones = torch.ones_like(x_data)\n",
    "print(x_ones)\n",
    "\n",
    "x_rand = torch.rand_like(x_data, dtype=torch.float)\n",
    "print(x_rand)\n",
    "\n",
    "x_f_data = torch.tensor([[1.0,2.0], [5.0,6.0]])\n",
    "x_f_rand = torch.rand_like(x_f_data)\n",
    "print(x_f_rand)"
   ]
  },
  {
   "cell_type": "code",
   "execution_count": 14,
   "metadata": {},
   "outputs": [
    {
     "name": "stdout",
     "output_type": "stream",
     "text": [
      "tensor([[0.6620, 0.6053, 0.4675, 0.3079, 0.6827],\n",
      "        [0.9384, 0.7994, 0.7651, 0.2248, 0.2510],\n",
      "        [0.0493, 0.9045, 0.8399, 0.3936, 0.5716],\n",
      "        [0.3584, 0.9453, 0.4049, 0.9550, 0.9871]])\n",
      "tensor([[1., 1., 1., 1., 1.],\n",
      "        [1., 1., 1., 1., 1.],\n",
      "        [1., 1., 1., 1., 1.],\n",
      "        [1., 1., 1., 1., 1.]])\n",
      "tensor([[0., 0., 0., 0., 0.],\n",
      "        [0., 0., 0., 0., 0.],\n",
      "        [0., 0., 0., 0., 0.],\n",
      "        [0., 0., 0., 0., 0.]])\n"
     ]
    }
   ],
   "source": [
    "shape = (4,5,)\n",
    "\n",
    "rand_t = torch.rand(shape)\n",
    "print(rand_t)\n",
    "\n",
    "ones_t = torch.ones(shape)\n",
    "print(ones_t)\n",
    "\n",
    "zeros_t = torch.zeros(shape)\n",
    "print(zeros_t)"
   ]
  },
  {
   "cell_type": "code",
   "execution_count": 15,
   "metadata": {},
   "outputs": [
    {
     "name": "stdout",
     "output_type": "stream",
     "text": [
      "tensor([[0.9737, 0.2332, 0.8897, 0.9535, 0.1822],\n",
      "        [0.3364, 0.2354, 0.8880, 0.9725, 0.4464],\n",
      "        [0.1354, 0.1605, 0.3951, 0.1101, 0.9077],\n",
      "        [0.1778, 0.0968, 0.6057, 0.0040, 0.8721]])\n",
      "The shape of tensor is torch.Size([4, 5])\n",
      "The datatype of tensor is torch.float32\n",
      "The device of the tensor is cpu\n"
     ]
    }
   ],
   "source": [
    "tensor = torch.rand(4,5)\n",
    "print(tensor)\n",
    "\n",
    "print(f'The shape of tensor is {tensor.shape}')\n",
    "print(f'The datatype of tensor is {tensor.dtype}')\n",
    "print(f'The device of the tensor is {tensor.device}')"
   ]
  },
  {
   "cell_type": "code",
   "execution_count": 16,
   "metadata": {},
   "outputs": [
    {
     "name": "stdout",
     "output_type": "stream",
     "text": [
      "False\n"
     ]
    }
   ],
   "source": [
    "print(torch.cuda.is_available())"
   ]
  },
  {
   "cell_type": "code",
   "execution_count": 17,
   "metadata": {},
   "outputs": [
    {
     "name": "stdout",
     "output_type": "stream",
     "text": [
      "First row: tensor([0.9737, 0.2332, 0.8897, 0.9535, 0.1822])\n",
      "First column: tensor([0.9737, 0.3364, 0.1354, 0.1778])\n",
      "Last column: tensor([0.1822, 0.4464, 0.9077, 0.8721])\n"
     ]
    }
   ],
   "source": [
    "print(f'First row: {tensor[0]}')\n",
    "print(f'First column: {tensor[:, 0]}')\n",
    "print(f'Last column: {tensor[..., -1]}')"
   ]
  },
  {
   "cell_type": "code",
   "execution_count": 18,
   "metadata": {},
   "outputs": [
    {
     "name": "stdout",
     "output_type": "stream",
     "text": [
      "t1: tensor([[1., 1., 1.],\n",
      "        [1., 1., 1.]])\n",
      "t2: tensor([[0., 0., 0.],\n",
      "        [0., 0., 0.]])\n",
      "t3: tensor([[1., 1., 1.],\n",
      "        [1., 1., 1.],\n",
      "        [0., 0., 0.],\n",
      "        [0., 0., 0.]])\n",
      "t4: tensor([[1., 1., 1.],\n",
      "        [1., 1., 1.],\n",
      "        [0., 0., 0.],\n",
      "        [0., 0., 0.],\n",
      "        [1., 1., 1.],\n",
      "        [1., 1., 1.]])\n"
     ]
    }
   ],
   "source": [
    "t1 = torch.ones([2,3])\n",
    "t2 = torch.zeros([2,3])\n",
    "print(f't1: {t1}')\n",
    "print(f't2: {t2}')\n",
    "t3 = torch.cat([t1,t2])\n",
    "t4 = torch.cat([t3, t1])\n",
    "print(f't3: {t3}')\n",
    "print(f't4: {t4}')"
   ]
  },
  {
   "cell_type": "code",
   "execution_count": 19,
   "metadata": {},
   "outputs": [
    {
     "name": "stdout",
     "output_type": "stream",
     "text": [
      "tensor([[1., 0., 1.],\n",
      "        [1., 0., 1.],\n",
      "        [1., 0., 1.]])\n",
      "tensor([[1., 1., 1.],\n",
      "        [0., 0., 0.],\n",
      "        [1., 1., 1.]])\n"
     ]
    }
   ],
   "source": [
    "t1 = torch.ones(3,3)\n",
    "t1[:, 1] = 0\n",
    "t1t = t1.T\n",
    "print(t1)\n",
    "print(t1t)"
   ]
  },
  {
   "cell_type": "code",
   "execution_count": 20,
   "metadata": {},
   "outputs": [
    {
     "name": "stdout",
     "output_type": "stream",
     "text": [
      "tensor([[1., 1., 1.],\n",
      "        [1., 1., 1.]])\n",
      "tensor([[0.6421, 0.3839],\n",
      "        [0.9227, 0.0641],\n",
      "        [0.8191, 0.0937]])\n",
      "tensor([[2.3839, 0.5417],\n",
      "        [2.3839, 0.5417]])\n"
     ]
    }
   ],
   "source": [
    "t1 = torch.ones(2,3)\n",
    "t2 = torch.rand(3,2)\n",
    "t1t2 = t1.matmul(t2) \n",
    "print(t1)\n",
    "print(t2)\n",
    "print(t1t2)"
   ]
  },
  {
   "cell_type": "code",
   "execution_count": 21,
   "metadata": {},
   "outputs": [
    {
     "name": "stdout",
     "output_type": "stream",
     "text": [
      "tensor([[0.8232, 0.3635],\n",
      "        [0.9252, 0.5897],\n",
      "        [0.7833, 0.5167]])\n",
      "tensor([[1.8232, 1.3635],\n",
      "        [1.9252, 1.5897],\n",
      "        [1.7833, 1.5167]])\n"
     ]
    }
   ],
   "source": [
    "t1 = torch.rand(3,2)\n",
    "print(t1)\n",
    "t1.add_(1)\n",
    "print(t1)"
   ]
  },
  {
   "cell_type": "code",
   "execution_count": null,
   "metadata": {},
   "outputs": [],
   "source": []
  }
 ],
 "metadata": {
  "kernelspec": {
   "display_name": "Python 3",
   "language": "python",
   "name": "python3"
  },
  "language_info": {
   "codemirror_mode": {
    "name": "ipython",
    "version": 3
   },
   "file_extension": ".py",
   "mimetype": "text/x-python",
   "name": "python",
   "nbconvert_exporter": "python",
   "pygments_lexer": "ipython3",
   "version": "3.11.5"
  },
  "orig_nbformat": 4
 },
 "nbformat": 4,
 "nbformat_minor": 2
}
