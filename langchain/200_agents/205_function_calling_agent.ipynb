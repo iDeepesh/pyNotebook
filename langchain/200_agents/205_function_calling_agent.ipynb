{
 "cells": [
  {
   "cell_type": "code",
   "execution_count": 28,
   "metadata": {},
   "outputs": [],
   "source": [
    "# Example of OpenAI function calling\n",
    "\n",
    "# Key difference from StructuredTool is that \n",
    "# - In StructuredTool agent, the inputs come in as K:V dictionary which need to be parsed into InputSchema and then used\n",
    "# - In OpenAIFunctions agent, the inputs come in as specific fields directly\n",
    "\n",
    "from langchain.agents import initialize_agent, AgentType\n",
    "from langchain.chat_models import ChatOpenAI\n",
    "from langchain.tools import BaseTool, Tool\n",
    "from langchain.tools.render import format_tool_to_openai_function\n",
    "from langchain.pydantic_v1 import BaseModel, Field\n",
    "from typing import Type\n",
    "\n",
    "class AdditionInputs(BaseModel):\n",
    "    first_number: int = Field(..., description=\"The first number\")\n",
    "    second_number: int = Field(..., description=\"The second number\")\n",
    "\n",
    "class CustomAdditionTool(BaseTool):\n",
    "    name = \"addition_calculator\"\n",
    "    description = \"Useful when you want to add two numbers\"\n",
    "    args_schema: Type[BaseModel] = AdditionInputs\n",
    "\n",
    "    def _run(self, first_number: int, second_number: int):\n",
    "        return first_number + second_number\n",
    "\n",
    "    def _arun(self, first_number: int, second_number: int):\n",
    "        raise NotImplementedError(\"Not supported\")\n",
    "    \n",
    "class SubtractionInputs(BaseModel):\n",
    "    larger_number: int = Field(..., description=\"The first number\")\n",
    "    smaller_number: int = Field(..., description=\"The second number\")\n",
    "\n",
    "class CustomSubtractionTool(BaseTool):\n",
    "    name = \"subtraction_calculator\"\n",
    "    description = \"Useful when you want to find difference two numbers\"\n",
    "    args_schema: Type[BaseModel] = SubtractionInputs\n",
    "\n",
    "    def _run(self, larger_number: int, smaller_number: int):\n",
    "        return larger_number - smaller_number\n",
    "\n",
    "    def _arun(self, larger_number: int, smaller_number: int):\n",
    "        raise NotImplementedError(\"Not supported\")\n",
    "    \n",
    "tools = [CustomAdditionTool(), CustomSubtractionTool()]    \n",
    "\n",
    "llm = ChatOpenAI(model=\"gpt-3.5-turbo-0613\")\n",
    "\n",
    "agent_executor = initialize_agent(llm=llm, tools=tools, agent=AgentType.OPENAI_FUNCTIONS, verbose=True)"
   ]
  },
  {
   "cell_type": "code",
   "execution_count": 29,
   "metadata": {},
   "outputs": [
    {
     "name": "stdout",
     "output_type": "stream",
     "text": [
      "\n",
      "\n",
      "\u001b[1m> Entering new AgentExecutor chain...\u001b[0m\n",
      "\u001b[32;1m\u001b[1;3m\n",
      "Invoking: `addition_calculator` with `{'first_number': 50, 'second_number': 24}`\n",
      "\n",
      "\n",
      "\u001b[0m\u001b[36;1m\u001b[1;3m74\u001b[0m\u001b[32;1m\u001b[1;3mThe sum of 50 and 24 is 74.\u001b[0m\n",
      "\n",
      "\u001b[1m> Finished chain.\u001b[0m\n"
     ]
    },
    {
     "data": {
      "text/plain": [
       "{'input': 'What is the sum of 50 and 24?',\n",
       " 'output': 'The sum of 50 and 24 is 74.'}"
      ]
     },
     "execution_count": 29,
     "metadata": {},
     "output_type": "execute_result"
    }
   ],
   "source": [
    "agent_executor.invoke({\"input\": \"What is the sum of 50 and 24?\"})"
   ]
  },
  {
   "cell_type": "code",
   "execution_count": 30,
   "metadata": {},
   "outputs": [
    {
     "name": "stdout",
     "output_type": "stream",
     "text": [
      "\n",
      "\n",
      "\u001b[1m> Entering new AgentExecutor chain...\u001b[0m\n",
      "\u001b[32;1m\u001b[1;3m\n",
      "Invoking: `subtraction_calculator` with `{'larger_number': 50, 'smaller_number': 24}`\n",
      "\n",
      "\n",
      "\u001b[0m\u001b[33;1m\u001b[1;3m26\u001b[0m\u001b[32;1m\u001b[1;3mThe difference between 50 and 24 is 26.\u001b[0m\n",
      "\n",
      "\u001b[1m> Finished chain.\u001b[0m\n"
     ]
    },
    {
     "data": {
      "text/plain": [
       "{'input': 'What is the difference of 50 and 24?',\n",
       " 'output': 'The difference between 50 and 24 is 26.'}"
      ]
     },
     "execution_count": 30,
     "metadata": {},
     "output_type": "execute_result"
    }
   ],
   "source": [
    "agent_executor.invoke({\"input\": \"What is the difference of 50 and 24?\"})"
   ]
  },
  {
   "cell_type": "code",
   "execution_count": 31,
   "metadata": {},
   "outputs": [
    {
     "name": "stdout",
     "output_type": "stream",
     "text": [
      "\n",
      "\n",
      "\u001b[1m> Entering new AgentExecutor chain...\u001b[0m\n",
      "\u001b[32;1m\u001b[1;3m\n",
      "Invoking: `subtraction_calculator` with `{'larger_number': 50, 'smaller_number': 24}`\n",
      "\n",
      "\n",
      "\u001b[0m\u001b[33;1m\u001b[1;3m26\u001b[0m\u001b[32;1m\u001b[1;3mThe difference between 24 and 50 is 26.\u001b[0m\n",
      "\n",
      "\u001b[1m> Finished chain.\u001b[0m\n"
     ]
    },
    {
     "data": {
      "text/plain": [
       "{'input': 'What is the difference of 24 and 50?',\n",
       " 'output': 'The difference between 24 and 50 is 26.'}"
      ]
     },
     "execution_count": 31,
     "metadata": {},
     "output_type": "execute_result"
    }
   ],
   "source": [
    "agent_executor.invoke({\"input\": \"What is the difference of 24 and 50?\"})"
   ]
  },
  {
   "cell_type": "code",
   "execution_count": null,
   "metadata": {},
   "outputs": [],
   "source": []
  }
 ],
 "metadata": {
  "kernelspec": {
   "display_name": "Python 3",
   "language": "python",
   "name": "python3"
  },
  "language_info": {
   "codemirror_mode": {
    "name": "ipython",
    "version": 3
   },
   "file_extension": ".py",
   "mimetype": "text/x-python",
   "name": "python",
   "nbconvert_exporter": "python",
   "pygments_lexer": "ipython3",
   "version": "3.11.5"
  },
  "orig_nbformat": 4
 },
 "nbformat": 4,
 "nbformat_minor": 2
}
