{
 "cells": [
  {
   "cell_type": "code",
   "execution_count": 19,
   "metadata": {},
   "outputs": [],
   "source": [
    "# Example of conversational agent with memory\n",
    "\n",
    "from langchain.llms import OpenAI\n",
    "from langchain.agents import load_tools, initialize_agent, AgentType\n",
    "from langchain.memory import ConversationBufferMemory\n",
    "from langchain.tools import Tool\n",
    "\n",
    "llm = OpenAI()\n",
    "\n",
    "tools = load_tools([\"ddg-search\", \"llm-math\"], llm=llm)\n",
    "\n",
    "memory = ConversationBufferMemory(memory_key=\"chat_history\")\n",
    "\n",
    "agent_executor = initialize_agent(llm=llm, tools=tools, agent=AgentType.CONVERSATIONAL_REACT_DESCRIPTION, memory=memory, verbose=True)"
   ]
  },
  {
   "cell_type": "code",
   "execution_count": 20,
   "metadata": {},
   "outputs": [
    {
     "name": "stdout",
     "output_type": "stream",
     "text": [
      "\n",
      "\n",
      "\u001b[1m> Entering new AgentExecutor chain...\u001b[0m\n",
      "\u001b[32;1m\u001b[1;3m\n",
      "Thought: Do I need to use a tool? Yes\n",
      "Action: duckduckgo_search\n",
      "Action Input: capital of India\u001b[0m\n",
      "Observation: \u001b[36;1m\u001b[1;3mThe capital city or the National Capital Territory (NCT) of India is New Delhi. Delhi is divided into two parts; the Old Delhi and New Delhi. The Old Delhi was founded in 1639 while the New Delhi was established on December 15, 1911. New Delhi is located in the north-central part of India and is adjacent south of Delhi city. India, officially the Republic of India (ISO: Bhārat Gaṇarājya), is a country in South Asia.It is the seventh-largest country by area; the most populous country as of June 2023; and from the time of its independence in 1947, the world's most populous democracy. Bounded by the Indian Ocean on the south, the Arabian Sea on the southwest, and the Bay of Bengal on the southeast, it shares land ... As the capital city of India, the economy of New Delhi is heavily focused on service and government sector activities. The large, skilled English-speaking workforce in New Delhi has also attracted a number of multinational companies in the sectors of information technology, telecommunications, banking, hotels, tourism, and media. What is the capital of India? The capital of India is New Delhi, located in the north-central part of the country to the west of the Yamuna River . Calcutta (now Kolkata, the capital of West ... In November 2008, terrorists originating from Pakistan conducted a series of coordinated attacks in Mumbai, India's financial capital. India's economic growth following the launch of economic reforms in 1991, a massive youthful population, and a strategic geographic location have contributed to India's emergence as a regional and global power.\u001b[0m\n",
      "Thought:\u001b[32;1m\u001b[1;3m Do I need to use a tool? No\n",
      "AI: The capital of India is New Delhi, located in the north-central part of the country to the west of the Yamuna River.\u001b[0m\n",
      "\n",
      "\u001b[1m> Finished chain.\u001b[0m\n"
     ]
    },
    {
     "data": {
      "text/plain": [
       "{'input': 'What is the capital of India?',\n",
       " 'chat_history': '',\n",
       " 'output': 'The capital of India is New Delhi, located in the north-central part of the country to the west of the Yamuna River.'}"
      ]
     },
     "execution_count": 20,
     "metadata": {},
     "output_type": "execute_result"
    }
   ],
   "source": [
    "agent_executor({\"input\": \"What is the capital of India?\"})"
   ]
  },
  {
   "cell_type": "code",
   "execution_count": 16,
   "metadata": {},
   "outputs": [
    {
     "name": "stdout",
     "output_type": "stream",
     "text": [
      "\n",
      "\n",
      "\u001b[1m> Entering new AgentExecutor chain...\u001b[0m\n",
      "\u001b[32;1m\u001b[1;3mThought: Do I need to use a tool? No\n",
      "AI: There are plenty of fun things to do in New Delhi! You can explore the local markets, visit the historical monuments, take a tour of the old town, or check out some of the city's many museums. You can also enjoy the delicious food, explore the performing arts scene, or simply take a leisurely stroll through the city streets.\u001b[0m\n",
      "\n",
      "\u001b[1m> Finished chain.\u001b[0m\n"
     ]
    },
    {
     "data": {
      "text/plain": [
       "{'input': 'What are fun things to do there?',\n",
       " 'chat_history': \"Human: What is the capital of India?\\nAI: The capital of India is New Delhi, located in the north-central part of the country to the west of the Yamuna River. It was established in 1911 and has been the capital since then.\\nHuman: What are fun things to do there?\\nAI: There are plenty of fun things to do in New Delhi! You can explore the local markets, visit the historical monuments, take a tour of the old town, or check out some of the city's many museums. You can also enjoy the delicious food, explore the performing arts scene, or simply take a leisurely stroll through the city streets.\\nHuman: What is the capital of India?\\nAI: The capital of India is New Delhi, located in the north-central part of the country to the west of the Yamuna River. It was established in 1911 and has been the capital since then.\\nHuman: What is the capital of India?\\nAI: The capital of India is New Delhi, located in the north-central part of the country to the west of the Yamuna River. It was established in 1911 and has been the capital since then.\",\n",
       " 'output': \"There are plenty of fun things to do in New Delhi! You can explore the local markets, visit the historical monuments, take a tour of the old town, or check out some of the city's many museums. You can also enjoy the delicious food, explore the performing arts scene, or simply take a leisurely stroll through the city streets.\"}"
      ]
     },
     "execution_count": 16,
     "metadata": {},
     "output_type": "execute_result"
    }
   ],
   "source": [
    "agent_executor({\"input\": \"What are fun things to do there?\"})"
   ]
  },
  {
   "cell_type": "code",
   "execution_count": 21,
   "metadata": {},
   "outputs": [
    {
     "name": "stdout",
     "output_type": "stream",
     "text": [
      "\n",
      "\n",
      "\u001b[1m> Entering new AgentExecutor chain...\u001b[0m\n",
      "\u001b[32;1m\u001b[1;3mThought: Do I need to use a tool? No\n",
      "AI: New Delhi has been the capital of India since 1911.\u001b[0m\n",
      "\n",
      "\u001b[1m> Finished chain.\u001b[0m\n"
     ]
    },
    {
     "data": {
      "text/plain": [
       "{'input': 'How many years since is was made capital?',\n",
       " 'chat_history': 'Human: What is the capital of India?\\nAI: The capital of India is New Delhi, located in the north-central part of the country to the west of the Yamuna River.',\n",
       " 'output': 'New Delhi has been the capital of India since 1911.'}"
      ]
     },
     "execution_count": 21,
     "metadata": {},
     "output_type": "execute_result"
    }
   ],
   "source": [
    "agent_executor({\"input\": \"How many years since is was made capital?\"})"
   ]
  },
  {
   "cell_type": "code",
   "execution_count": 22,
   "metadata": {},
   "outputs": [
    {
     "name": "stdout",
     "output_type": "stream",
     "text": [
      "\n",
      "\n",
      "\u001b[1m> Entering new AgentExecutor chain...\u001b[0m\n",
      "\u001b[32;1m\u001b[1;3m\n",
      "Thought: Do I need to use a tool? Yes\n",
      "Action: Calculator\n",
      "Action Input: 1911^2\u001b[0m\n",
      "Observation: \u001b[33;1m\u001b[1;3mAnswer: 3651921\u001b[0m\n",
      "Thought:\u001b[32;1m\u001b[1;3m Do I need to use a tool? No\n",
      "AI: The number of years in 1911 raised to the power of 2 is 3651921.\u001b[0m\n",
      "\n",
      "\u001b[1m> Finished chain.\u001b[0m\n"
     ]
    },
    {
     "data": {
      "text/plain": [
       "{'input': 'What is then number of years raise to power of 2?',\n",
       " 'chat_history': 'Human: What is the capital of India?\\nAI: The capital of India is New Delhi, located in the north-central part of the country to the west of the Yamuna River.\\nHuman: How many years since is was made capital?\\nAI: New Delhi has been the capital of India since 1911.',\n",
       " 'output': 'The number of years in 1911 raised to the power of 2 is 3651921.'}"
      ]
     },
     "execution_count": 22,
     "metadata": {},
     "output_type": "execute_result"
    }
   ],
   "source": [
    "agent_executor({\"input\": \"What is then number of years raise to power of 2?\"})"
   ]
  },
  {
   "cell_type": "code",
   "execution_count": null,
   "metadata": {},
   "outputs": [],
   "source": []
  }
 ],
 "metadata": {
  "kernelspec": {
   "display_name": "Python 3",
   "language": "python",
   "name": "python3"
  },
  "language_info": {
   "codemirror_mode": {
    "name": "ipython",
    "version": 3
   },
   "file_extension": ".py",
   "mimetype": "text/x-python",
   "name": "python",
   "nbconvert_exporter": "python",
   "pygments_lexer": "ipython3",
   "version": "3.11.5"
  },
  "orig_nbformat": 4
 },
 "nbformat": 4,
 "nbformat_minor": 2
}
