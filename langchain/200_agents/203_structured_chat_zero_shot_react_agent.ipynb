{
 "cells": [
  {
   "cell_type": "code",
   "execution_count": 55,
   "metadata": {},
   "outputs": [],
   "source": [
    "# Example of structured tool\n",
    "\n",
    "from langchain.agents import initialize_agent, AgentType, load_tools\n",
    "from langchain.llms import OpenAI\n",
    "from langchain.pydantic_v1 import BaseModel\n",
    "from pydantic.tools import parse_obj_as\n",
    "from typing import Type, Optional, Any\n",
    "from langchain.tools import StructuredTool\n",
    "from langchain.callbacks.manager import (\n",
    "    AsyncCallbackManagerForToolRun,\n",
    "    CallbackManagerForToolRun,\n",
    ")\n",
    "\n",
    "class AdditionSchema(BaseModel):\n",
    "    first_number: int\n",
    "    second_number: int\n",
    "\n",
    "class CustomAdditionTool(StructuredTool):\n",
    "    name = \"addition_calculator\"\n",
    "    description = \"Useful when you want to add two numbers\"\n",
    "    args_schema: Type[BaseModel] = AdditionSchema\n",
    "\n",
    "    def _run(self, *args: Any, run_manager: Optional[CallbackManagerForToolRun] = None, **kwargs: Any) -> Any:\n",
    "        # Can do either of the two\n",
    "\n",
    "        # input = parse_obj_as(AdditionSchema, kwargs)\n",
    "        # return input.first_number + input.second_number\n",
    "        \n",
    "        return kwargs[\"first_number\"] + kwargs[\"second_number\"]\n",
    "\n",
    "    async def _arun(self, *args: Any, run_manager: Optional[AsyncCallbackManagerForToolRun] = None, **kwargs: Any) -> Any:\n",
    "        raise NotImplementedError(\"Not supported\")"
   ]
  },
  {
   "cell_type": "code",
   "execution_count": 56,
   "metadata": {},
   "outputs": [],
   "source": [
    "class CustomSubstractionTool(StructuredTool):\n",
    "    name = \"substraction_calculator\"\n",
    "    description = \"Useful when you want to find different between two numbers\"\n",
    "    args_schema: Type[BaseModel] = AdditionSchema\n",
    "\n",
    "    def _run(self, *args: Any, run_manager: Optional[CallbackManagerForToolRun] = None, **kwargs: Any) -> Any:\n",
    "        input = parse_obj_as(AdditionSchema, kwargs)\n",
    "        return input.first_number - input.second_number\n",
    "\n",
    "    async def _arun(self, *args: Any, run_manager: Optional[AsyncCallbackManagerForToolRun] = None, **kwargs: Any) -> Any:\n",
    "        raise NotImplementedError(\"Not supported\")"
   ]
  },
  {
   "cell_type": "code",
   "execution_count": 57,
   "metadata": {},
   "outputs": [],
   "source": [
    "llm = OpenAI()\n",
    "\n",
    "tools = load_tools([\"ddg-search\"], llm=llm)\n",
    "tools.append(CustomAdditionTool())\n",
    "tools.append(CustomSubstractionTool())\n",
    "\n",
    "agent_executor = initialize_agent(llm= llm, tools=tools, agent=AgentType.STRUCTURED_CHAT_ZERO_SHOT_REACT_DESCRIPTION, verbose=True)"
   ]
  },
  {
   "cell_type": "code",
   "execution_count": 58,
   "metadata": {},
   "outputs": [
    {
     "name": "stdout",
     "output_type": "stream",
     "text": [
      "\n",
      "\n",
      "\u001b[1m> Entering new AgentExecutor chain...\u001b[0m\n",
      "\u001b[32;1m\u001b[1;3mAction:\n",
      "```\n",
      "{\n",
      "  \"action\": \"duckduckgo_search\",\n",
      "  \"action_input\": \"Joe Biden's wife\"\n",
      "}\n",
      "```\n",
      "\n",
      "\u001b[0m\n",
      "Observation: \u001b[36;1m\u001b[1;3mAfter taking the Oath of Office on January 20, 2021, Joseph R. Biden and his wife Dr. Jill Biden officially became the 46th President and First Lady of the United States. Joe Biden might be the Democratic nominee for president of the United States, but his wife, Jill Biden, comes with an equally impressive resume. As noted by the Los Angeles Times , prior to Joe's time in the White House, Jill already had two master's degrees and had worked for almost 25 years as a college professor. President Joe Biden is opening up about his love for his wife, Dr. Jill Biden, and his late first wife, Neilia Hunter Biden . During a candid conversation on Monday's episode of iHeartPodcast's On ... President Joe Biden was tested for the virus following his wife's positive test, but his results were negative. White House press secretary Karine Jean-Pierre said the president would continue ... Joe Biden and Dr. Jill Biden took time on Sunday to remember the president's first wife and college sweetheart, Neilia Hunter Biden, and their 13-month-old daughter, Naomi — 50 years after...\u001b[0m\n",
      "Thought:\u001b[32;1m\u001b[1;3m Now I need to find their ages\n",
      "Action:\n",
      "```\n",
      "{\n",
      "  \"action\": \"duckduckgo_search\",\n",
      "  \"action_input\": \"Joe Biden's age\"\n",
      "}\n",
      "```\n",
      "\n",
      "\u001b[0m\n",
      "Observation: \u001b[36;1m\u001b[1;3mJoe Biden. Joe Biden speaks on the U.S. withdrawal from Afghanistan and the fall of Kabul. Joseph Robinette Biden Jr. ( / ˈbaɪdən / ⓘ BY-dən; born November 20, 1942) is an American politician who is the 46th and current president of the United States. A member of the Democratic Party, he previously served as the 47th vice president from ... Joe Biden: 80 Marianne Williamson: 71 Robert F. Kennedy Jr: 69 How old are the Republicans running in the 2024 election? Donald Trump: 77 Asa Hutchinson: 72 Larry Elder: 71 Doug Burgum: 67 Mike... When a sample of all voters was asked about Joe Biden's age, 74 percent said that they have major or moderate concerns that he does not have the mental or physical health to be president for a... 582 Experts say President Biden's background and lifestyle are conducive to healthy aging. Doug Mills/The New York Times By Sheryl Gay Stolberg Nov. 19, 2022 阅读简体中文版 閱讀繁體中文版 WASHINGTON —... How old is Mitch McConnell?: Senator's age under spotlight in increasingly old Congress Contributing: George Petras, Joey Garrison, Michael Collins Should Joe Biden win the 2024 presidential...\u001b[0m\n",
      "Thought:\u001b[32;1m\u001b[1;3m Now I can answer the question\n",
      "Action:\n",
      "```\n",
      "{\n",
      "  \"action\": \"addition_calculator\",\n",
      "  \"action_input\": {\"first_number\": 80, \"second_number\": 71}\n",
      "}\n",
      "```\n",
      "\n",
      "\u001b[0m\n",
      "Observation: \u001b[33;1m\u001b[1;3m151\u001b[0m\n",
      "Thought:\u001b[32;1m\u001b[1;3m I know what to respond\n",
      "Action:\n",
      "```\n",
      "{\n",
      "  \"action\": \"Final Answer\",\n",
      "  \"action_input\": \"Joe Biden's wife is Dr. Jill Biden and their combined age is 151.\"\n",
      "}\n",
      "```\u001b[0m\n",
      "\n",
      "\u001b[1m> Finished chain.\u001b[0m\n"
     ]
    },
    {
     "data": {
      "text/plain": [
       "{'input': \"Who is Joe Biden's wife? What is the sum of their ages?\",\n",
       " 'output': \"Joe Biden's wife is Dr. Jill Biden and their combined age is 151.\"}"
      ]
     },
     "execution_count": 58,
     "metadata": {},
     "output_type": "execute_result"
    }
   ],
   "source": [
    "agent_executor.invoke({\"input\": \"Who is Joe Biden's wife? What is the sum of their ages?\"})\n"
   ]
  },
  {
   "cell_type": "code",
   "execution_count": 53,
   "metadata": {},
   "outputs": [
    {
     "name": "stdout",
     "output_type": "stream",
     "text": [
      "\n",
      "\n",
      "\u001b[1m> Entering new AgentExecutor chain...\u001b[0m\n"
     ]
    },
    {
     "name": "stdout",
     "output_type": "stream",
     "text": [
      "\u001b[32;1m\u001b[1;3mAction: \n",
      "```\n",
      "{\n",
      "  \"action\": \"duckduckgo_search\",\n",
      "  \"action_input\": \"Donald Trump's wife age difference\"\n",
      "}\n",
      "```\n",
      "\u001b[0m\n",
      "Observation: \u001b[36;1m\u001b[1;3mPresident Donald Trump and first lady Melania's 24-year age difference isn't the largest the White House has ever seen. Among the many first couples in White House history, age gaps have spanned ... Donald Trump is 24 years older than Melina (his third wife). However, Melina is his youngest wife. Trump is three years older than his first wife, Ivana, and 17 years older than his second wife, Marla. There were a lot of rumors about Donald and Melina's marriage, plus the fact that both of them slept in different rooms. The age difference between former President Donald Trump and his wife, Melania Trump, is approximately 25 years, 10 months, and 12 days. While the significant gap has sparked public interest and debate, it's important to approach the topic with an open mind and consider the nuances of their relationship. How old are the Republicans running in the 2024 election? Donald Trump: 77 Asa Hutchinson: 72 Larry Elder: 71 Doug Burgum: 67 Mike Pence: 64 Chris Christie: 60 Tim Scott: 57 Nikki Haley: 51 Ryan... But being one of the nation's most-watched couples has not been easy for the Trumps; their union had been criticized because of their 24-year age gap and Donald's track record of divorce and alleged sex scandals. Donald and Melania's love story began in New York, where the billionaire businessman met the Slovenian model in a nightclub.\u001b[0m\n",
      "Thought:\u001b[32;1m\u001b[1;3m I know what to respond\n",
      "Action:\n",
      "```\n",
      "{\n",
      "  \"action\": \"Final Answer\",\n",
      "  \"action_input\": \"Donald Trump is 24 years older than Melania. The age gap between them has sparked public interest, but it is important to consider the nuances of their relationship.\"\n",
      "}\n",
      "```\u001b[0m\n",
      "\n",
      "\u001b[1m> Finished chain.\u001b[0m\n",
      "{'input': \"Who is President Donald Trump's wife? What is the difference of their ages?\", 'output': 'Donald Trump is 24 years older than Melania. The age gap between them has sparked public interest, but it is important to consider the nuances of their relationship.'}\n"
     ]
    }
   ],
   "source": [
    "response = agent_executor.invoke({\"input\": \"Who is President Donald Trump's wife? What is the difference of their ages?\"})\n",
    "print(response)\n"
   ]
  },
  {
   "cell_type": "code",
   "execution_count": null,
   "metadata": {},
   "outputs": [],
   "source": []
  }
 ],
 "metadata": {
  "kernelspec": {
   "display_name": "Python 3",
   "language": "python",
   "name": "python3"
  },
  "language_info": {
   "codemirror_mode": {
    "name": "ipython",
    "version": 3
   },
   "file_extension": ".py",
   "mimetype": "text/x-python",
   "name": "python",
   "nbconvert_exporter": "python",
   "pygments_lexer": "ipython3",
   "version": "3.11.5"
  },
  "orig_nbformat": 4
 },
 "nbformat": 4,
 "nbformat_minor": 2
}
