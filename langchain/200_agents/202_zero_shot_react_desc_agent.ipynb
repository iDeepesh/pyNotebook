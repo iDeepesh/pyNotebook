{
 "cells": [
  {
   "cell_type": "code",
   "execution_count": 4,
   "metadata": {},
   "outputs": [],
   "source": [
    "# Example of Zero shot react description agent\n",
    "\n",
    "from langchain.llms import OpenAI\n",
    "from langchain.agents import load_tools, initialize_agent, AgentType\n",
    "from langchain.tools import Tool\n",
    "\n",
    "llm = OpenAI()\n",
    "\n",
    "tools = load_tools([\"ddg-search\", \"llm-math\"], llm=llm)\n",
    "\n",
    "agent_executor = initialize_agent(tools, llm, agent=AgentType.ZERO_SHOT_REACT_DESCRIPTION, verbose=True)"
   ]
  },
  {
   "cell_type": "code",
   "execution_count": 5,
   "metadata": {},
   "outputs": [
    {
     "name": "stdout",
     "output_type": "stream",
     "text": [
      "\n",
      "\n",
      "\u001b[1m> Entering new AgentExecutor chain...\u001b[0m\n",
      "\u001b[32;1m\u001b[1;3m Joe Biden and his wife are both public figures, so their ages can be found online.\n",
      "Action: duckduckgo_search\n",
      "Action Input: \"Joe Biden wife age\"\u001b[0m\n",
      "Observation: \u001b[36;1m\u001b[1;3mHannah Hudnall USA TODAY The claim: Post implies that Joe Biden said, 'She was 12, I was 30,' in reference to his wife, Jill Biden A widely circulated picture of a young Joe and Jill... Mark Wilson/Getty Beau was Joe's eldest son, born on Feb. 3, 1969, with the legal name Joseph Robinette Biden III, after his father and grandfather. His mom was Neilia, Joe's first wife who... According to a White House biography, Jill Biden was born in June 1951 and met Joe Biden in June 1975 when she was 23 and he was 32. Both Jill and Joe were married before they first met.... After running through my 50s, surviving my 60s and slowing down in my 70s, I've learned an important truth: Every day, there is another challenge to overcome. Aging isn't for cowards. Still, if you are blessed to be in your 70s or beyond, we need to hear from you now more than ever. Quick Facts FULL NAME: Robert Hunter Biden BORN: February 4, 1970 BIRTHPLACE: Wilmington, Delaware SPOUSES: Kathleen Buhle (1993-2017) and Melissa Cohen (2019-present) CHILDREN: Naomi, Finnegan,...\u001b[0m\n",
      "Thought:\u001b[32;1m\u001b[1;3m Jill Biden is 69 and Joe Biden is 78, so the sum of their ages is 147.\n",
      "Final Answer: The sum of Joe Biden and his wife Jill Biden's ages is 147.\u001b[0m\n",
      "\n",
      "\u001b[1m> Finished chain.\u001b[0m\n"
     ]
    },
    {
     "data": {
      "text/plain": [
       "{'input': \"Who is Joe Biden's wife? What is the sum of their ages?\",\n",
       " 'output': \"The sum of Joe Biden and his wife Jill Biden's ages is 147.\"}"
      ]
     },
     "execution_count": 5,
     "metadata": {},
     "output_type": "execute_result"
    }
   ],
   "source": [
    "agent_executor.invoke({\"input\": \"Who is Joe Biden's wife? What is the sum of their ages?\"})"
   ]
  },
  {
   "cell_type": "code",
   "execution_count": null,
   "metadata": {},
   "outputs": [],
   "source": []
  }
 ],
 "metadata": {
  "kernelspec": {
   "display_name": "Python 3",
   "language": "python",
   "name": "python3"
  },
  "language_info": {
   "codemirror_mode": {
    "name": "ipython",
    "version": 3
   },
   "file_extension": ".py",
   "mimetype": "text/x-python",
   "name": "python",
   "nbconvert_exporter": "python",
   "pygments_lexer": "ipython3",
   "version": "3.11.5"
  },
  "orig_nbformat": 4
 },
 "nbformat": 4,
 "nbformat_minor": 2
}
