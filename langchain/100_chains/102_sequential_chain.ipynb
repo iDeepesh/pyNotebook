{
 "cells": [
  {
   "cell_type": "code",
   "execution_count": 75,
   "metadata": {},
   "outputs": [],
   "source": [
    "from langchain.llms import OpenAI\n",
    "from langchain.chains import LLMChain\n",
    "from langchain.prompts import PromptTemplate\n",
    "\n",
    "llm = OpenAI(temperature=.7)"
   ]
  },
  {
   "cell_type": "code",
   "execution_count": 78,
   "metadata": {},
   "outputs": [
    {
     "name": "stdout",
     "output_type": "stream",
     "text": [
      "\n",
      "\n",
      "\u001b[1m> Entering new SimpleSequentialChain chain...\u001b[0m\n",
      "\u001b[36;1m\u001b[1;3m\n",
      "\n",
      "Bridesmaids\u001b[0m\n",
      "\u001b[33;1m\u001b[1;3m\n",
      "\n",
      "Bridesmaids is a hilarious and heartwarming comedy that follows a group of bridesmaids on a wild and unpredictable journey as they attempt to support their best friend on her journey to the altar. Featuring an all-star cast including Kristen Wiig, Maya Rudolph, Melissa McCarthy, and Rose Byrne, the movie is a riot of laughs and emotion, with each actress bringing her own unique brand of comedy to the screen. The script is sharp and smart, and the characters are endearing and relatable, making for a delightful and unforgettable experience. Bridesmaids is a must-see for fans of comedy.\u001b[0m\n",
      "\n",
      "\u001b[1m> Finished chain.\u001b[0m\n"
     ]
    },
    {
     "data": {
      "text/plain": [
       "'\\n\\nBridesmaids is a hilarious and heartwarming comedy that follows a group of bridesmaids on a wild and unpredictable journey as they attempt to support their best friend on her journey to the altar. Featuring an all-star cast including Kristen Wiig, Maya Rudolph, Melissa McCarthy, and Rose Byrne, the movie is a riot of laughs and emotion, with each actress bringing her own unique brand of comedy to the screen. The script is sharp and smart, and the characters are endearing and relatable, making for a delightful and unforgettable experience. Bridesmaids is a must-see for fans of comedy.'"
      ]
     },
     "execution_count": 78,
     "metadata": {},
     "output_type": "execute_result"
    }
   ],
   "source": [
    "# Simple sequential chain. Can take only one input variable while invoking the chain\n",
    "\n",
    "from langchain.chains import SimpleSequentialChain\n",
    "\n",
    "movie_suggestion_prompt = \"\"\"You are movie magzine editor. Suggest a good {genre} movie to watch with my wife. Return just the name of the movie, nothing else.\"\"\"\n",
    "movie_suggestion_prompt_template = PromptTemplate(input_variables=['genre'], template=movie_suggestion_prompt)\n",
    "movie_suggestion_chain = LLMChain(llm=llm, prompt=movie_suggestion_prompt_template)\n",
    "\n",
    "movie_review_prompt = \"\"\"You are movie magzine cirtic. Given the movie {movie}, provide a brief review of the movie\"\"\"\n",
    "movie_review_prompt_template = PromptTemplate(input_variables=['movie'], template=movie_review_prompt)\n",
    "movie_review_chain = LLMChain(llm=llm, prompt=movie_review_prompt_template)\n",
    "\n",
    "simple_chain = SimpleSequentialChain(chains=[movie_suggestion_chain, movie_review_chain], verbose=True)\n",
    "simple_chain.run('Comedy')"
   ]
  },
  {
   "cell_type": "code",
   "execution_count": 80,
   "metadata": {},
   "outputs": [
    {
     "name": "stdout",
     "output_type": "stream",
     "text": [
      "\n",
      "\n",
      "\u001b[1m> Entering new SequentialChain chain...\u001b[0m\n",
      "\n",
      "\u001b[1m> Finished chain.\u001b[0m\n"
     ]
    },
    {
     "data": {
      "text/plain": [
       "{'genre': 'Comedy',\n",
       " 'audience': 'wife',\n",
       " 'occassion': 'marraige anniversary',\n",
       " 'movie': '\\n\\nThe Proposal',\n",
       " 'review': \"\\n\\nThe Proposal is a charming romantic comedy starring Sandra Bullock and Ryan Reynolds. Bullock plays Margaret Tate, a successful but stressed-out executive who is in danger of being deported from the U.S. She proposes marriage to her assistant, Andrew Paxton (Reynolds), to save her from deportation. The two must travel to Alaska to meet Margaret's family, and the story follows their misadventures as they attempt to convince Margaret's family that their marriage is real. The Proposal is a lighthearted and entertaining movie that is sure to please fans of romantic comedies. The chemistry between Bullock and Reynolds is palpable, and the supporting cast of characters adds a touch of humor to the story. All in all, The Proposal is an enjoyable film with plenty of laughs.\"}"
      ]
     },
     "execution_count": 80,
     "metadata": {},
     "output_type": "execute_result"
    }
   ],
   "source": [
    "# Sequential chain. Can take multiple input variables while invoking hte chain\n",
    "\n",
    "from langchain.chains import SequentialChain\n",
    "\n",
    "movie_suggestion_prompt_v2 = \"\"\"You are movie magzine editor. Suggest a good {genre} movie to watch with my {audience} during {occassion}. Return just the name of the movie, nothing else.\"\"\"\n",
    "movie_suggestion_prompt_template_v2 = PromptTemplate(input_variables=['genre', 'audience', 'occassion'], template=movie_suggestion_prompt_v2)\n",
    "movie_suggestion_chain_v2 = LLMChain(llm=llm, prompt=movie_suggestion_prompt_template_v2, output_key='movie')\n",
    "\n",
    "movie_review_chain_v2 = LLMChain(llm=llm, prompt=movie_review_prompt_template, output_key='review')\n",
    "\n",
    "complex_chain = SequentialChain(chains=[movie_suggestion_chain_v2, movie_review_chain_v2], input_variables=['genre', 'audience', 'occassion'], output_variables=['movie', 'review'], verbose=True)\n",
    "complex_chain({'genre':'Comedy', 'audience':'wife', 'occassion':'marraige anniversary'})"
   ]
  },
  {
   "cell_type": "code",
   "execution_count": 84,
   "metadata": {},
   "outputs": [
    {
     "name": "stdout",
     "output_type": "stream",
     "text": [
      "\n",
      "\n",
      "\u001b[1m> Entering new SequentialChain chain...\u001b[0m\n",
      "\n",
      "\u001b[1m> Finished chain.\u001b[0m\n"
     ]
    },
    {
     "data": {
      "text/plain": [
       "{'genre': 'Comedy',\n",
       " 'audience': 'wife',\n",
       " 'occassion': 'marraige anniversary',\n",
       " 'event': 'thanksgiving',\n",
       " 'movie': '\\n\\nThe Hangover',\n",
       " 'review': '\\n\\nThe Hangover is a hilarious comedy that follows a group of friends on a wild night in Las Vegas. Four friends, Phil, Stu, Alan, and Doug, set out for a wild bachelor party weekend in Vegas. What follows is a wild and unpredictable night of partying, misadventures, and non-stop laughs. With an excellent cast and a clever script, The Hangover delivers an unforgettable experience that will keep you laughing from start to finish. It is a must-see for any fan of comedy.',\n",
       " 'recommendation': '\\n\\nThe Hangover is not a suitable recommendation for Thanksgiving. This movie is a comedy about a group of friends attempting to piece together the events of their wild night in Las Vegas after one of them gets married. It is filled with adult humor and language, which makes it inappropriate for a family gathering.'}"
      ]
     },
     "execution_count": 84,
     "metadata": {},
     "output_type": "execute_result"
    }
   ],
   "source": [
    "# Sequential chain with memory\n",
    "\n",
    "from langchain.memory import SimpleMemory\n",
    "\n",
    "movie_recommendation_prompt = \"\"\"You are responsible for recommending a movie for {event}. Decide if the {movie} would be a good recommendation or not. Explain your reasoning briefly.\"\"\"\n",
    "movie_recommendation_prompt_template = PromptTemplate(input_variables=['event', 'movie'], template=movie_recommendation_prompt)\n",
    "movie_recommendation_chain = LLMChain(llm=llm, prompt=movie_recommendation_prompt_template, output_key='recommendation')\n",
    "\n",
    "complex_chain_with_memory = SequentialChain(\n",
    "    chains=[movie_suggestion_chain_v2, movie_review_chain_v2, movie_recommendation_chain], \n",
    "    memory = SimpleMemory(memories={'event': 'thanksgiving'}),\n",
    "    input_variables=['genre', 'audience', 'occassion'], \n",
    "    output_variables=['movie', 'review', 'recommendation'], \n",
    "    verbose=True)\n",
    "complex_chain_with_memory({'genre':'Comedy', 'audience':'wife', 'occassion':'marraige anniversary'})"
   ]
  },
  {
   "cell_type": "code",
   "execution_count": null,
   "metadata": {},
   "outputs": [],
   "source": []
  }
 ],
 "metadata": {
  "kernelspec": {
   "display_name": "Python 3",
   "language": "python",
   "name": "python3"
  },
  "language_info": {
   "codemirror_mode": {
    "name": "ipython",
    "version": 3
   },
   "file_extension": ".py",
   "mimetype": "text/x-python",
   "name": "python",
   "nbconvert_exporter": "python",
   "pygments_lexer": "ipython3",
   "version": "3.11.5"
  },
  "orig_nbformat": 4
 },
 "nbformat": 4,
 "nbformat_minor": 2
}
