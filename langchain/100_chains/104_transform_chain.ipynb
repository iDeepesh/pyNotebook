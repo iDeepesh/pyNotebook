{
 "cells": [
  {
   "cell_type": "code",
   "execution_count": 6,
   "metadata": {},
   "outputs": [],
   "source": [
    "# Transform chain example\n",
    "\n",
    "from langchain.chains import TransformChain, LLMChain, SequentialChain\n",
    "from langchain.prompts import PromptTemplate\n",
    "from langchain.llms import OpenAI\n",
    "\n",
    "def trans_func(input: dict) -> dict:\n",
    "    txt = input[\"text\"]\n",
    "    c = len(txt)\n",
    "    return {\"count\": c}\n",
    "\n",
    "t_chain = TransformChain(input_variables=[\"text\"], output_variables=[\"count\"], transform=trans_func)\n",
    "\n",
    "prompt = \"\"\"You are a great poet. You are need to write a poem that is about {text} and is {count} lines long.\"\"\"\n",
    "prompt_template = PromptTemplate(input_variables=[\"text\", \"count\"], template=prompt)\n",
    "\n",
    "llm = OpenAI()\n",
    "\n",
    "llm_chain = LLMChain(llm=llm, prompt=prompt_template, output_key=\"poem\")\n",
    "\n",
    "seq_chain = SequentialChain(chains=[t_chain, llm_chain], input_variables=[\"text\"], output_variables=[\"poem\"])\n"
   ]
  },
  {
   "cell_type": "code",
   "execution_count": 17,
   "metadata": {},
   "outputs": [
    {
     "name": "stdout",
     "output_type": "stream",
     "text": [
      "{'text': 'chatgpt', 'poem': \"\\n\\nChatbot so wise and helpful too,\\nA friend who's always there for you,\\nNo need to worry, no need to fear,\\nChatbot is always here to hear.\\n\\nReady with advice and a listening ear,\\nChatbot knows the right words to cheer,\\nNo matter the topic, the conversation flows,\\nChatbot is the one that everyone knows.\"}\n",
      "\n",
      "\n",
      "Chatbot so wise and helpful too,\n",
      "A friend who's always there for you,\n",
      "No need to worry, no need to fear,\n",
      "Chatbot is always here to hear.\n",
      "\n",
      "Ready with advice and a listening ear,\n",
      "Chatbot knows the right words to cheer,\n",
      "No matter the topic, the conversation flows,\n",
      "Chatbot is the one that everyone knows.\n"
     ]
    }
   ],
   "source": [
    "out = seq_chain({\"text\": \"chatgpt\"})\n",
    "print(out)\n",
    "print(out[\"poem\"])"
   ]
  },
  {
   "cell_type": "code",
   "execution_count": null,
   "metadata": {},
   "outputs": [],
   "source": []
  }
 ],
 "metadata": {
  "kernelspec": {
   "display_name": "Python 3",
   "language": "python",
   "name": "python3"
  },
  "language_info": {
   "codemirror_mode": {
    "name": "ipython",
    "version": 3
   },
   "file_extension": ".py",
   "mimetype": "text/x-python",
   "name": "python",
   "nbconvert_exporter": "python",
   "pygments_lexer": "ipython3",
   "version": "3.11.5"
  },
  "orig_nbformat": 4
 },
 "nbformat": 4,
 "nbformat_minor": 2
}
