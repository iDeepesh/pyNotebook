{
 "cells": [
  {
   "cell_type": "code",
   "execution_count": 37,
   "metadata": {},
   "outputs": [],
   "source": [
    "from langchain.chains import LLMChain\n",
    "from langchain.prompts import PromptTemplate\n",
    "from langchain.llms import OpenAI\n",
    "from langchain.chains import ConversationChain\n",
    "\n",
    "decimal_math_template = \"\"\"You are a mathematician. You have expertize in decimal arithmatic operations. \n",
    "You breakdown complex problem in steps and solve one step at a time. Please show detailed steps when solving. \n",
    "If you are asked anything other than decimal arithmatic operation then just say that you don't know how to solve it.\n",
    "Here is a question for you to solve: {input}\"\"\"\n",
    "\n",
    "binary_math_template = \"\"\"You are a mathematician. You have expertize in binary arithmatic operations. \n",
    "You breakdown complex problem in steps and solve one step at a time. Please show detailed steps when solving.\n",
    "If you are asked anything other than binary arithmatic operation then just say that you don't know how to solve it.\n",
    "Here is a question for you to solve: {input}\"\"\"\n",
    "\n",
    "hexadecimal_math_template = \"\"\"You are a mathematician. You have expertize in hexadecimal arithmatic operations. \n",
    "You breakdown complex problem in steps and solve one step at a time. Please show detailed steps when solving.\n",
    "If you are asked anything other than hexadecimal arithmatic operation then just say that you don't know how to solve it.\n",
    "Here is a question for you to solve: {input}\"\"\"\n",
    "\n",
    "prompt_info_array = [\n",
    "    {\n",
    "        'name': 'decimal',\n",
    "        'description': 'Mathematician for solving decimal digits problems',\n",
    "        'prompt_template': decimal_math_template\n",
    "    },\n",
    "    {\n",
    "        'name': 'binary',\n",
    "        'description': 'Mathematician for solving binary digits problems',\n",
    "        'prompt_template': binary_math_template\n",
    "    },\n",
    "    {\n",
    "        'name': 'hexadecimal',\n",
    "        'description': 'Mathematician for solving hexadecimal digits problems',\n",
    "        'prompt_template': hexadecimal_math_template\n",
    "    }\n",
    "]\n",
    "\n",
    "llm = OpenAI()\n",
    "\n",
    "destination_chains = {}\n",
    "for p_info in prompt_info_array:\n",
    "    name = p_info['name']\n",
    "    prompt_template = p_info['prompt_template']\n",
    "    prompt = PromptTemplate(template=prompt_template, input_variables=['input'])\n",
    "    chain = LLMChain(llm=llm, prompt=prompt)\n",
    "    destination_chains[name] = chain\n",
    "    \n",
    "default_chain = ConversationChain(llm=llm, output_key=\"text\")"
   ]
  },
  {
   "cell_type": "code",
   "execution_count": 38,
   "metadata": {},
   "outputs": [],
   "source": [
    "# LLMRouterChain example. The chain execution order is not hardcoded. LLM is invoked to decide the next chanin to execute\n",
    "\n",
    "from langchain.chains.router.llm_router import LLMRouterChain, RouterOutputParser\n",
    "from langchain.chains.router.multi_prompt_prompt import MULTI_PROMPT_ROUTER_TEMPLATE\n",
    "from langchain.chains.router import MultiPromptChain\n",
    "\n",
    "\n",
    "destinations = [f\"{p['name']}: {p['description']}\" for p in prompt_info_array]\n",
    "destinations_str = \"\\n\".join(destinations)\n",
    "router_template = MULTI_PROMPT_ROUTER_TEMPLATE.format(destinations=destinations_str)\n",
    "router_prompt = PromptTemplate(\n",
    "    template=router_template,\n",
    "    input_variables=[\"input\"],\n",
    "    output_parser=RouterOutputParser(),\n",
    ")\n",
    "router_chain = LLMRouterChain.from_llm(llm, router_prompt)\n",
    "\n",
    "chain = MultiPromptChain(\n",
    "    router_chain=router_chain,\n",
    "    destination_chains=destination_chains,\n",
    "    default_chain=default_chain,\n",
    "    verbose=True,\n",
    ")"
   ]
  },
  {
   "cell_type": "code",
   "execution_count": null,
   "metadata": {},
   "outputs": [],
   "source": [
    "print(chain.run(\"What is twenty four divided by six?\"))\n",
    "print(chain.run(\"What is the output of addition of binary numbers 001100 and 1100000?\"))\n",
    "print(chain.run(\"What is the result of adition of A34C3D and 100?\"))\n",
    "print(chain.run(\"What is the result of 1100 or 0110?\"))\n",
    "print(chain.run(\"Tell me soemthing about Mars.\"))"
   ]
  },
  {
   "cell_type": "code",
   "execution_count": 35,
   "metadata": {},
   "outputs": [
    {
     "name": "stdout",
     "output_type": "stream",
     "text": [
      "[('decimal', ['Mathematician for solving decimal digits problems']), ('binary', ['Mathematician for solving binary digits problems']), ('hexadecimal', ['Mathematician for solving hexadecimal digits problems'])]\n"
     ]
    }
   ],
   "source": [
    "# Embeddings router chain example. Uses embeddings of description instead of router to decide the next chain to execute\n",
    "\n",
    "from langchain.chains.router.embedding_router import EmbeddingRouterChain\n",
    "from langchain.embeddings import OpenAIEmbeddings\n",
    "from langchain.vectorstores import Chroma\n",
    "\n",
    "name_and_desc = []\n",
    "for p in prompt_info_array:\n",
    "    name_and_desc.append((p[\"name\"], [p[\"description\"]]))\n",
    "\n",
    "embedding_router_chain = EmbeddingRouterChain.from_names_and_descriptions(name_and_desc, Chroma, OpenAIEmbeddings(), routing_keys=[\"input\"])\n",
    "\n",
    "e_chain = MultiPromptChain(\n",
    "    router_chain=embedding_router_chain,\n",
    "    destination_chains=destination_chains,\n",
    "    default_chain=default_chain,\n",
    "    verbose=True,\n",
    ")\n",
    "print(name_and_desc)"
   ]
  },
  {
   "cell_type": "code",
   "execution_count": 36,
   "metadata": {},
   "outputs": [
    {
     "name": "stdout",
     "output_type": "stream",
     "text": [
      "\n",
      "\n",
      "\u001b[1m> Entering new MultiPromptChain chain...\u001b[0m\n",
      "hexadecimal: {'input': 'Tell me soemthing about Mars.'}\n",
      "\u001b[1m> Finished chain.\u001b[0m\n",
      "\n",
      "I'm sorry, I don't know how to solve this.\n"
     ]
    }
   ],
   "source": [
    "print(e_chain.run(\"What is twenty four divided by six?\"))\n",
    "print(e_chain.run(\"What is the output of addition of binary numbers 001100 and 1100000?\"))\n",
    "print(e_chain.run(\"What is the result of adition of A34C3D and 100?\"))\n",
    "print(e_chain.run(\"What is the result of 1100 or 0110?\"))\n",
    "print(e_chain.run(\"Tell me soemthing about Mars.\"))"
   ]
  },
  {
   "cell_type": "code",
   "execution_count": null,
   "metadata": {},
   "outputs": [],
   "source": []
  }
 ],
 "metadata": {
  "kernelspec": {
   "display_name": "Python 3",
   "language": "python",
   "name": "python3"
  },
  "language_info": {
   "codemirror_mode": {
    "name": "ipython",
    "version": 3
   },
   "file_extension": ".py",
   "mimetype": "text/x-python",
   "name": "python",
   "nbconvert_exporter": "python",
   "pygments_lexer": "ipython3",
   "version": "3.11.5"
  },
  "orig_nbformat": 4
 },
 "nbformat": 4,
 "nbformat_minor": 2
}
